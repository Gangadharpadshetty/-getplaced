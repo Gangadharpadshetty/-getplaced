{
  "nbformat": 4,
  "nbformat_minor": 0,
  "metadata": {
    "colab": {
      "provenance": [],
      "name": "numpyluct2.ipynb",
      "authorship_tag": "ABX9TyNWe/H8rCfvbAMv+iKyV+6Q",
      "include_colab_link": true
    },
    "kernelspec": {
      "name": "python3",
      "display_name": "Python 3"
    },
    "language_info": {
      "name": "python"
    }
  },
  "cells": [
    {
      "cell_type": "markdown",
      "metadata": {
        "id": "view-in-github",
        "colab_type": "text"
      },
      "source": [
        "<a href=\"https://colab.research.google.com/github/Gangadharpadshetty/-getplaced/blob/main/numpyluct2.ipynb\" target=\"_parent\"><img src=\"https://colab.research.google.com/assets/colab-badge.svg\" alt=\"Open In Colab\"/></a>"
      ]
    },
    {
      "cell_type": "code",
      "execution_count": null,
      "metadata": {
        "id": "X1I1Yui3UUFt"
      },
      "outputs": [],
      "source": [
        "import numpy as np\n"
      ]
    },
    {
      "cell_type": "code",
      "source": [
        "np.random.random((3,3))"
      ],
      "metadata": {
        "id": "o388sSWlUafe"
      },
      "execution_count": null,
      "outputs": []
    },
    {
      "cell_type": "code",
      "source": [
        "if np.random.random()>0.5:\n",
        "  print(\"run the function\")\n",
        "else:\n",
        "  print(\"dont run the functio\")"
      ],
      "metadata": {
        "colab": {
          "base_uri": "https://localhost:8080/"
        },
        "id": "yvkpekC3U00x",
        "outputId": "74073719-33bd-4f41-8080-3f7637a7ddb8"
      },
      "execution_count": null,
      "outputs": [
        {
          "output_type": "stream",
          "name": "stdout",
          "text": [
            "dont run the functio\n"
          ]
        }
      ]
    },
    {
      "cell_type": "code",
      "source": [
        "np.arange(1,10,2)"
      ],
      "metadata": {
        "colab": {
          "base_uri": "https://localhost:8080/"
        },
        "id": "oITztkZ-U0nD",
        "outputId": "168a4e82-83e6-42ae-8119-1b3e93eaac8d"
      },
      "execution_count": null,
      "outputs": [
        {
          "output_type": "execute_result",
          "data": {
            "text/plain": [
              "array([1, 3, 5, 7, 9])"
            ]
          },
          "metadata": {},
          "execution_count": 12
        }
      ]
    },
    {
      "cell_type": "code",
      "source": [
        "np.linspace(1,7,10)"
      ],
      "metadata": {
        "colab": {
          "base_uri": "https://localhost:8080/"
        },
        "id": "tMBsIYVpU0ji",
        "outputId": "3d25a31d-14c0-4b8c-9aad-0c18c43d073a"
      },
      "execution_count": null,
      "outputs": [
        {
          "output_type": "execute_result",
          "data": {
            "text/plain": [
              "array([1.        , 1.66666667, 2.33333333, 3.        , 3.66666667,\n",
              "       4.33333333, 5.        , 5.66666667, 6.33333333, 7.        ])"
            ]
          },
          "metadata": {},
          "execution_count": 14
        }
      ]
    },
    {
      "cell_type": "code",
      "source": [
        "arr=np.random.random((4,3))"
      ],
      "metadata": {
        "id": "oX1kvBYJU0gD"
      },
      "execution_count": null,
      "outputs": []
    },
    {
      "cell_type": "code",
      "source": [
        "arr=np.reshape(arr,(3,4))"
      ],
      "metadata": {
        "id": "lfzgGJEfU0dT"
      },
      "execution_count": null,
      "outputs": []
    },
    {
      "cell_type": "code",
      "source": [
        "arr"
      ],
      "metadata": {
        "colab": {
          "base_uri": "https://localhost:8080/"
        },
        "id": "VIvuBBlBU0aW",
        "outputId": "a6400cd9-6c82-47aa-c6ca-6ad0dea61e02"
      },
      "execution_count": null,
      "outputs": [
        {
          "output_type": "execute_result",
          "data": {
            "text/plain": [
              "array([[0.73031066, 0.38099   , 0.38245599, 0.52500458],\n",
              "       [0.47532752, 0.56681817, 0.90599561, 0.70936692],\n",
              "       [0.59208219, 0.16897055, 0.77259812, 0.4871278 ]])"
            ]
          },
          "metadata": {},
          "execution_count": 19
        }
      ]
    },
    {
      "cell_type": "code",
      "source": [
        "arr.flatten()"
      ],
      "metadata": {
        "colab": {
          "base_uri": "https://localhost:8080/"
        },
        "id": "ZkRgOoEXU0XF",
        "outputId": "38760a7d-25d9-47fe-c14d-cbf5a66eca52"
      },
      "execution_count": null,
      "outputs": [
        {
          "output_type": "execute_result",
          "data": {
            "text/plain": [
              "array([0.73031066, 0.38099   , 0.38245599, 0.52500458, 0.47532752,\n",
              "       0.56681817, 0.90599561, 0.70936692, 0.59208219, 0.16897055,\n",
              "       0.77259812, 0.4871278 ])"
            ]
          },
          "metadata": {},
          "execution_count": 20
        }
      ]
    },
    {
      "cell_type": "code",
      "source": [],
      "metadata": {
        "id": "9pxTXPmcU0FH"
      },
      "execution_count": null,
      "outputs": []
    }
  ]
}